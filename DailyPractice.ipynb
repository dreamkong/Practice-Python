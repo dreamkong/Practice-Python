{
 "cells": [
  {
   "cell_type": "markdown",
   "metadata": {},
   "source": [
    "### 日常练习"
   ]
  },
  {
   "cell_type": "code",
   "execution_count": 7,
   "metadata": {},
   "outputs": [
    {
     "name": "stdout",
     "output_type": "stream",
     "text": [
      "python\n"
     ]
    }
   ],
   "source": [
    "import socket\n",
    "\n",
    "server = socket.socket()\n",
    "server.bind(('0.0.0.0',1236))\n",
    "server.listen()\n",
    "client_socket, client_ip = server.accept()\n",
    "data = ''\n",
    "while True:\n",
    "    temp_data = client_socket.recv(1024)\n",
    "    if temp_data:\n",
    "        data += temp_data.decode('utf-8')\n",
    "    else:\n",
    "        break\n",
    "client_socket.close()\n",
    "server.close()\n",
    "print(data)"
   ]
  },
  {
   "cell_type": "code",
   "execution_count": null,
   "metadata": {},
   "outputs": [],
   "source": [
    "import socket\n",
    "\n",
    "client = socket.socket()\n",
    "client.connect(('192.168.3.4', 1236))\n",
    "client.send('python'.encode('utf-8'))"
   ]
  },
  {
   "cell_type": "code",
   "execution_count": 8,
   "metadata": {},
   "outputs": [
    {
     "name": "stdout",
     "output_type": "stream",
     "text": [
      "append: 0.6921142339997459\n",
      "+: 0.688392539988854\n",
      "[i for i in range]: 0.33113540599879343\n",
      "list(range()): 0.14556496898876503\n",
      "extend: 1.1066055059927749\n",
      "insert: 19.141197434000787\n"
     ]
    }
   ],
   "source": [
    "# 测试几种list生成花费时间对比\n",
    "def test1():\n",
    "    li = []\n",
    "    for i in range(10000):\n",
    "        li.append(i)\n",
    "        \n",
    "def test2():\n",
    "    li = []\n",
    "    for i in range(10000):\n",
    "        li += [i]\n",
    "        \n",
    "def test3():\n",
    "    li = [i for i in range(10000)]\n",
    "    \n",
    "def test4():\n",
    "    li = list(range(10000))\n",
    "    \n",
    "def test5():\n",
    "    li = []\n",
    "    for i in range(10000):\n",
    "        li.extend([i])\n",
    "        \n",
    "def test6():\n",
    "    li = []\n",
    "    for i in range(10000):\n",
    "        li.insert(0, i)\n",
    "    \n",
    "from timeit import Timer\n",
    "timer1 = Timer('test1()', 'from __main__ import test1')\n",
    "print('append:',timer1.timeit(1000))\n",
    "\n",
    "timer2 = Timer('test2()', 'from __main__ import test2')\n",
    "print('+:',timer2.timeit(1000))\n",
    "\n",
    "timer3 = Timer('test3()', 'from __main__ import test3')\n",
    "print('[i for i in range]:',timer3.timeit(1000))\n",
    "\n",
    "timer4 = Timer('test4()', 'from __main__ import test4')\n",
    "print('list(range()):',timer4.timeit(1000))\n",
    "\n",
    "timer5 = Timer('test5()', 'from __main__ import test5')\n",
    "print('extend:',timer5.timeit(1000))\n",
    "\n",
    "timer6 = Timer('test6()', 'from __main__ import test6')\n",
    "print('insert:',timer6.timeit(1000))"
   ]
  },
  {
   "cell_type": "code",
   "execution_count": null,
   "metadata": {},
   "outputs": [],
   "source": []
  }
 ],
 "metadata": {
  "kernelspec": {
   "display_name": "Python 3",
   "language": "python",
   "name": "python3"
  },
  "language_info": {
   "codemirror_mode": {
    "name": "ipython",
    "version": 3
   },
   "file_extension": ".py",
   "mimetype": "text/x-python",
   "name": "python",
   "nbconvert_exporter": "python",
   "pygments_lexer": "ipython3",
   "version": "3.6.8"
  }
 },
 "nbformat": 4,
 "nbformat_minor": 2
}
