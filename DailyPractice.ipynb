{
 "cells": [
  {
   "cell_type": "markdown",
   "metadata": {},
   "source": [
    "### 日常练习"
   ]
  },
  {
   "cell_type": "code",
   "execution_count": 7,
   "metadata": {},
   "outputs": [
    {
     "name": "stdout",
     "output_type": "stream",
     "text": [
      "python\n"
     ]
    }
   ],
   "source": [
    "import socket\n",
    "\n",
    "server = socket.socket()\n",
    "server.bind(('0.0.0.0',1236))\n",
    "server.listen()\n",
    "client_socket, client_ip = server.accept()\n",
    "data = ''\n",
    "while True:\n",
    "    temp_data = client_socket.recv(1024)\n",
    "    if temp_data:\n",
    "        data += temp_data.decode('utf-8')\n",
    "    else:\n",
    "        break\n",
    "client_socket.close()\n",
    "server.close()\n",
    "print(data)"
   ]
  },
  {
   "cell_type": "code",
   "execution_count": null,
   "metadata": {},
   "outputs": [],
   "source": [
    "import socket\n",
    "\n",
    "client = socket.socket()\n",
    "client.connect(('192.168.3.4', 1236))\n",
    "client.send('python'.encode('utf-8'))"
   ]
  },
  {
   "cell_type": "code",
   "execution_count": null,
   "metadata": {},
   "outputs": [],
   "source": []
  }
 ],
 "metadata": {
  "kernelspec": {
   "display_name": "Python 3",
   "language": "python",
   "name": "python3"
  },
  "language_info": {
   "codemirror_mode": {
    "name": "ipython",
    "version": 3
   },
   "file_extension": ".py",
   "mimetype": "text/x-python",
   "name": "python",
   "nbconvert_exporter": "python",
   "pygments_lexer": "ipython3",
   "version": "3.6.8"
  }
 },
 "nbformat": 4,
 "nbformat_minor": 2
}
