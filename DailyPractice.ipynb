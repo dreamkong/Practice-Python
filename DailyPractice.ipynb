{
 "cells": [
  {
   "cell_type": "markdown",
   "metadata": {},
   "source": [
    "### 日常练习"
   ]
  },
  {
   "cell_type": "code",
   "execution_count": 7,
   "metadata": {},
   "outputs": [
    {
     "name": "stdout",
     "output_type": "stream",
     "text": [
      "python\n"
     ]
    }
   ],
   "source": [
    "import socket\n",
    "\n",
    "server = socket.socket()\n",
    "server.bind(('0.0.0.0',1236))\n",
    "server.listen()\n",
    "client_socket, client_ip = server.accept()\n",
    "data = ''\n",
    "while True:\n",
    "    temp_data = client_socket.recv(1024)\n",
    "    if temp_data:\n",
    "        data += temp_data.decode('utf-8')\n",
    "    else:\n",
    "        break\n",
    "client_socket.close()\n",
    "server.close()\n",
    "print(data)"
   ]
  },
  {
   "cell_type": "code",
   "execution_count": null,
   "metadata": {},
   "outputs": [],
   "source": [
    "import socket\n",
    "\n",
    "client = socket.socket()\n",
    "client.connect(('192.168.3.4', 1236))\n",
    "client.send('python'.encode('utf-8'))"
   ]
  },
  {
   "cell_type": "code",
   "execution_count": 10,
   "metadata": {},
   "outputs": [
    {
     "name": "stdout",
     "output_type": "stream",
     "text": [
      "append: 0.7494670799933374\n",
      "+=: 0.7707764130027499\n",
      "[i for i in range]: 0.32084457599557936\n",
      "list(range()): 0.15338158699159976\n",
      "extend: 1.0812095610017423\n",
      "insert: 19.23397680099879\n",
      "+: 131.93713055401167\n"
     ]
    }
   ],
   "source": [
    "# 测试几种list生成花费时间对比\n",
    "def test1():\n",
    "    li = []\n",
    "    for i in range(10000):\n",
    "        li.append(i)\n",
    "        \n",
    "def test2():\n",
    "    li = []\n",
    "    for i in range(10000):\n",
    "        li += [i]\n",
    "        \n",
    "def test3():\n",
    "    li = [i for i in range(10000)]\n",
    "    \n",
    "def test4():\n",
    "    li = list(range(10000))\n",
    "    \n",
    "def test5():\n",
    "    li = []\n",
    "    for i in range(10000):\n",
    "        li.extend([i])\n",
    "        \n",
    "def test6():\n",
    "    li = []\n",
    "    for i in range(10000):\n",
    "        li.insert(0, i)\n",
    "        \n",
    "def test7():\n",
    "    li = []\n",
    "    for i in range(10000):\n",
    "        li = li + [i]\n",
    "    \n",
    "from timeit import Timer\n",
    "timer1 = Timer('test1()', 'from __main__ import test1')\n",
    "print('append:',timer1.timeit(1000))\n",
    "\n",
    "timer2 = Timer('test2()', 'from __main__ import test2')\n",
    "print('+=:',timer2.timeit(1000))\n",
    "\n",
    "timer3 = Timer('test3()', 'from __main__ import test3')\n",
    "print('[i for i in range]:',timer3.timeit(1000))\n",
    "\n",
    "timer4 = Timer('test4()', 'from __main__ import test4')\n",
    "print('list(range()):',timer4.timeit(1000))\n",
    "\n",
    "timer5 = Timer('test5()', 'from __main__ import test5')\n",
    "print('extend:',timer5.timeit(1000))\n",
    "\n",
    "timer6 = Timer('test6()', 'from __main__ import test6')\n",
    "print('insert:',timer6.timeit(1000))\n",
    "\n",
    "timer7 = Timer('test7()', 'from __main__ import test7')\n",
    "print('+:',timer7.timeit(1000))"
   ]
  },
  {
   "cell_type": "markdown",
   "metadata": {},
   "source": [
    "* Python对list += 做了优化 `li = li + [1]` 和 `li += [0]`不同"
   ]
  },
  {
   "cell_type": "markdown",
   "metadata": {},
   "source": [
    "* Python变量指向的是数据的地址"
   ]
  },
  {
   "cell_type": "code",
   "execution_count": 64,
   "metadata": {},
   "outputs": [],
   "source": [
    "# 定义单链表\n",
    "class Node:\n",
    "    def __init__(self, val):\n",
    "        self.val = val\n",
    "        self.next = None\n",
    "        \n",
    "class SingleLinkList:\n",
    "    def __init__(self, node=None):\n",
    "        self.__head = node\n",
    "    \n",
    "    def is_empty(self):\n",
    "        '''判断链表是否为空'''\n",
    "        return self.__head == None\n",
    "    \n",
    "    def length(self):\n",
    "        '''链表的长度'''\n",
    "        cur = self.__head\n",
    "        count = 0\n",
    "        while cur:\n",
    "            count += 1\n",
    "            cur = cur.next\n",
    "        return count\n",
    "    \n",
    "    def travel(self):\n",
    "        '''遍历链表'''\n",
    "        cur = self.__head\n",
    "        while cur:\n",
    "            print(cur.val, end=' ')\n",
    "            cur = cur.next\n",
    "    \n",
    "    def add(self, item):\n",
    "        '''链表头部添加'''\n",
    "        node = Node(item)\n",
    "        node.next = self.__head\n",
    "        self.__head = node\n",
    "    \n",
    "    def append(self, item):\n",
    "        '''链表尾部添加'''\n",
    "        node = Node(item)\n",
    "        cur = self.__head\n",
    "        if self.is_empty():\n",
    "            self.__head = node\n",
    "        else:\n",
    "            while cur.next:\n",
    "                cur = cur.next\n",
    "            cur.next = node\n",
    "    \n",
    "    def insert(self, position, item):\n",
    "        '''指定位置添加'''\n",
    "        if position <= 0:\n",
    "            self.add(item)\n",
    "        elif position > self.length() - 1:\n",
    "            self.append(item)\n",
    "        else:\n",
    "            pre = self.__head\n",
    "            count = 0\n",
    "            while count < (position - 1):\n",
    "                count += 1\n",
    "                pre = pre.next\n",
    "            # 当循环退出后,pre指向position-1的位置\n",
    "            node = Node(item)\n",
    "            node.next = pre.next\n",
    "            pre.next = node\n",
    "    \n",
    "    def remove(self, item):\n",
    "        '''移除列表元素'''\n",
    "        if self.is_empty():\n",
    "            return False\n",
    "        pre = None\n",
    "        cur = self.__head\n",
    "        length = self.length()\n",
    "        count = 0\n",
    "        while cur:\n",
    "            if item == cur.val:\n",
    "                if count == length - 1:\n",
    "                    if pre:\n",
    "                        pre.next = None\n",
    "                    else:\n",
    "                        self.__head = None\n",
    "                else:\n",
    "                    if pre:\n",
    "                        pre.next = cur.next\n",
    "                    else:\n",
    "                        self.__head = cur.next\n",
    "                return True\n",
    "            count += 1\n",
    "            pre = cur\n",
    "            cur = cur.next\n",
    "        return False\n",
    "    \n",
    "    def search(self, item):\n",
    "        '''搜索指定值是否存在于链表'''\n",
    "        cur = self.__head\n",
    "        while cur:\n",
    "            if item == cur.val:\n",
    "                return True\n",
    "            cur = cur.next\n",
    "        return False"
   ]
  },
  {
   "cell_type": "code",
   "execution_count": 65,
   "metadata": {},
   "outputs": [
    {
     "name": "stdout",
     "output_type": "stream",
     "text": [
      "True\n",
      "0\n",
      "False\n",
      "1\n",
      "9 8 100 1 2 3 4 5 6 200 \n",
      " ********************\n",
      "8 100 1 2 3 4 5 6 200 \n",
      " ********************\n",
      "8 100 1 2 3 4 5 6 \n",
      " ********************\n",
      "8 100 1 2 4 5 6 "
     ]
    }
   ],
   "source": [
    "sll = SingleLinkList()\n",
    "print(sll.is_empty())\n",
    "print(sll.length())\n",
    "sll.append(1)\n",
    "print(sll.is_empty())\n",
    "print(sll.length())\n",
    "sll.append(2)\n",
    "sll.add(8)\n",
    "sll.append(3)\n",
    "sll.append(4)\n",
    "sll.append(5)\n",
    "sll.append(6)\n",
    "# 8 1 2 3 4 5 6 \n",
    "sll.insert(-1, 9)\n",
    "sll.insert(2, 100)\n",
    "sll.insert(10, 200)\n",
    "sll.travel()\n",
    "print('\\n','*' * 20)\n",
    "sll.remove(9)\n",
    "sll.travel()\n",
    "print('\\n','*' * 20)\n",
    "sll.remove(200)\n",
    "sll.travel()\n",
    "print('\\n','*' * 20)\n",
    "sll.remove(3)\n",
    "sll.travel()"
   ]
  },
  {
   "cell_type": "code",
   "execution_count": 66,
   "metadata": {},
   "outputs": [],
   "source": [
    "# 定义双向链表\n",
    "class Node:\n",
    "    def __init__(self, val):\n",
    "        self.val = val\n",
    "        self.prev = None\n",
    "        self.next = None\n",
    "    \n",
    "    def __str__(self):\n",
    "        return str(self.val)\n",
    "        \n",
    "class DoubleLinkList:\n",
    "    def __init__(self, node=None):\n",
    "        self.__head = node\n",
    "        \n",
    "    def is_empty(self):\n",
    "        '''判断链表是否为空'''\n",
    "        return self.__head == None\n",
    "    \n",
    "    def length(self):\n",
    "        '''链表的长度'''\n",
    "        cur = self.__head\n",
    "        count = 0\n",
    "        while cur:\n",
    "            count += 1\n",
    "            cur = cur.next\n",
    "        return count\n",
    "    \n",
    "    def travel(self):\n",
    "        '''遍历链表'''\n",
    "        cur = self.__head\n",
    "        while cur:\n",
    "            print(cur.prev, end=' ')\n",
    "            print(cur.val, end=' ')\n",
    "            print(cur.next)\n",
    "            cur = cur.next\n",
    "    \n",
    "    def add(self, item):\n",
    "        '''链表头部添加'''\n",
    "        node = Node(item)\n",
    "        node.next = self.__head\n",
    "        self.__head.prev = node\n",
    "        self.__head = node\n",
    "    \n",
    "    def append(self, item):\n",
    "        '''链表尾部添加'''\n",
    "        node = Node(item)\n",
    "        cur = self.__head\n",
    "        if self.is_empty():\n",
    "            self.__head = node\n",
    "        else:\n",
    "            while cur.next:\n",
    "                cur = cur.next\n",
    "            cur.next = node\n",
    "            node.prev = cur\n",
    "    \n",
    "    def insert(self, position, item):\n",
    "        '''指定位置添加'''\n",
    "        if position <= 0:\n",
    "            self.add(item)\n",
    "        elif position > self.length() - 1:\n",
    "            self.append(item)\n",
    "        else:\n",
    "            pre = self.__head\n",
    "            count = 0\n",
    "            while count < (position - 1):\n",
    "                count += 1\n",
    "                pre = pre.next\n",
    "            # 当循环退出后,pre指向position-1的位置\n",
    "            node = Node(item)\n",
    "            node.next = pre.next\n",
    "            node.prev = pre\n",
    "            pre.next = node\n",
    "            node.next.prev = node\n",
    "    \n",
    "    def remove(self, item):\n",
    "        '''移除列表元素'''\n",
    "        if self.is_empty():\n",
    "            return False\n",
    "        pre = None\n",
    "        cur = self.__head\n",
    "        length = self.length()\n",
    "        count = 0\n",
    "        while cur:\n",
    "            if item == cur.val:\n",
    "                if count == length - 1:\n",
    "                    if pre:\n",
    "                        pre.next = None\n",
    "                    else:\n",
    "                        self.__head = None\n",
    "                else:\n",
    "                    if pre:\n",
    "                        pre.next = cur.next\n",
    "                        cur.next.prev = pre\n",
    "                    else:\n",
    "                        self.__head = cur.next\n",
    "                        cur.next.prev = None\n",
    "                return True\n",
    "            count += 1\n",
    "            pre = cur\n",
    "            cur = cur.next\n",
    "        return False\n",
    "    \n",
    "    def search(self, item):\n",
    "        '''搜索指定值是否存在于链表'''\n",
    "        cur = self.__head\n",
    "        while cur:\n",
    "            if item == cur.val:\n",
    "                return True\n",
    "            cur = cur.next\n",
    "        return False"
   ]
  },
  {
   "cell_type": "code",
   "execution_count": 67,
   "metadata": {},
   "outputs": [
    {
     "name": "stdout",
     "output_type": "stream",
     "text": [
      "True\n",
      "0\n",
      "False\n",
      "1\n",
      "None 9 8\n",
      "9 8 100\n",
      "8 100 1\n",
      "100 1 2\n",
      "1 2 3\n",
      "2 3 4\n",
      "3 4 5\n",
      "4 5 6\n",
      "5 6 200\n",
      "6 200 None\n",
      "********************\n",
      "remove 9\n",
      "None 8 100\n",
      "8 100 1\n",
      "100 1 2\n",
      "1 2 3\n",
      "2 3 4\n",
      "3 4 5\n",
      "4 5 6\n",
      "5 6 200\n",
      "6 200 None\n",
      "********************\n",
      "remove 200\n",
      "None 8 100\n",
      "8 100 1\n",
      "100 1 2\n",
      "1 2 3\n",
      "2 3 4\n",
      "3 4 5\n",
      "4 5 6\n",
      "5 6 None\n",
      "********************\n",
      "remove 3\n",
      "None 8 100\n",
      "8 100 1\n",
      "100 1 2\n",
      "1 2 4\n",
      "2 4 5\n",
      "4 5 6\n",
      "5 6 None\n"
     ]
    }
   ],
   "source": [
    "dll = DoubleLinkList()\n",
    "print(dll.is_empty())\n",
    "print(dll.length())\n",
    "dll.append(1)\n",
    "print(dll.is_empty())\n",
    "print(dll.length())\n",
    "dll.append(2)\n",
    "dll.add(8)\n",
    "dll.append(3)\n",
    "dll.append(4)\n",
    "dll.append(5)\n",
    "dll.append(6)\n",
    "# 8 1 2 3 4 5 6 \n",
    "dll.insert(-1, 9)\n",
    "dll.insert(2, 100)\n",
    "dll.insert(10, 200)\n",
    "dll.travel()\n",
    "print('*' * 20)\n",
    "dll.remove(9)\n",
    "print('remove 9')\n",
    "dll.travel()\n",
    "print('*' * 20)\n",
    "dll.remove(200)\n",
    "print('remove 200')\n",
    "dll.travel()\n",
    "print('*' * 20)\n",
    "dll.remove(3)\n",
    "print('remove 3')\n",
    "dll.travel()"
   ]
  },
  {
   "cell_type": "code",
   "execution_count": 9,
   "metadata": {},
   "outputs": [],
   "source": [
    "# 单项循环链表\n",
    "class Node:\n",
    "    def __init__(self, val):\n",
    "        self.val = val\n",
    "        self.next = None\n",
    "        \n",
    "class SingleCycleLinkList:\n",
    "    def __init__(self, node=None):\n",
    "        self.__head = node\n",
    "        if node:\n",
    "            node.next = node\n",
    "    \n",
    "    def is_empty(self):\n",
    "        '''判断链表是否为空'''\n",
    "        return self.__head == None\n",
    "    \n",
    "    def length(self):\n",
    "        '''链表的长度'''\n",
    "        cur = self.__head\n",
    "        if self.is_empty():\n",
    "            return 0\n",
    "        count = 1\n",
    "        while cur.next != self.__head:\n",
    "            count += 1\n",
    "            cur = cur.next\n",
    "        return count\n",
    "    \n",
    "    def travel(self):\n",
    "        '''遍历链表'''\n",
    "        cur = self.__head\n",
    "        if self.is_empty():\n",
    "            return\n",
    "        print(cur.val, end=' ')\n",
    "        while cur.next != self.__head:\n",
    "            cur = cur.next\n",
    "            print(cur.val, end=' ')\n",
    "    \n",
    "    def add(self, item):\n",
    "        '''链表头部添加'''\n",
    "        node = Node(item)\n",
    "        if self.is_empty():\n",
    "            self.__head = node\n",
    "            node.next = node\n",
    "        cur = self.__head\n",
    "        while cur.next != self.__head:\n",
    "            cur = cur.next\n",
    "        node.next = self.__head\n",
    "        self.__head = node\n",
    "        cur.next = node\n",
    "    \n",
    "    def append(self, item):\n",
    "        '''链表尾部添加'''\n",
    "        node = Node(item)\n",
    "        cur = self.__head\n",
    "        if self.is_empty():\n",
    "            self.__head = node\n",
    "            node.next = node\n",
    "        else:\n",
    "            while cur.next != self.__head:\n",
    "                cur = cur.next\n",
    "            cur.next = node\n",
    "            node.next = self.__head\n",
    "    \n",
    "    def insert(self, position, item):\n",
    "        '''指定位置添加'''\n",
    "        if position <= 0:\n",
    "            self.add(item)\n",
    "        elif position > self.length() - 1:\n",
    "            self.append(item)\n",
    "        else:\n",
    "            pre = self.__head\n",
    "            count = 0\n",
    "            while count < (position - 1):\n",
    "                count += 1\n",
    "                pre = pre.next\n",
    "            # 当循环退出后,pre指向position-1的位置\n",
    "            node = Node(item)\n",
    "            node.next = pre.next\n",
    "            pre.next = node\n",
    "    \n",
    "    def remove(self, item):\n",
    "        '''移除列表元素'''\n",
    "        if self.is_empty():\n",
    "            return False\n",
    "        \n",
    "        pre = None\n",
    "        cur = self.__head\n",
    "        while cur.next != self.__head:\n",
    "            if item == cur.val:\n",
    "                if cur == self.__head:\n",
    "                    while cur.next != self.__head:\n",
    "                        cur = cur.next\n",
    "                    cur.next = self.__head.next\n",
    "                    self.__head = self.__head.next\n",
    "                else:\n",
    "                    pre.next = cur.next\n",
    "                return True\n",
    "            pre = cur\n",
    "            cur = cur.next\n",
    "        else:\n",
    "            if cur.val == item:\n",
    "                if cur == self.__head:\n",
    "                    # 链表只有一个节点\n",
    "                    self.__head = None\n",
    "                else:\n",
    "                    pre.next = cur.next\n",
    "                return True\n",
    "        return False\n",
    "    \n",
    "    def search(self, item):\n",
    "        '''搜索指定值是否存在于链表'''\n",
    "        cur = self.__head\n",
    "        if cur == None:\n",
    "            return False\n",
    "        elif cur.val == item:\n",
    "            return True\n",
    "        while cur.next != self.__head:\n",
    "            cur = cur.next\n",
    "            if item == cur.val:\n",
    "                return True\n",
    "        return False"
   ]
  },
  {
   "cell_type": "code",
   "execution_count": 10,
   "metadata": {},
   "outputs": [
    {
     "name": "stdout",
     "output_type": "stream",
     "text": [
      "True\n",
      "0\n",
      "False\n",
      "1\n",
      "9 8 100 1 2 3 4 5 6 200 \n",
      " ********************\n",
      "remove 9\n",
      "8 100 1 2 3 4 5 6 200 \n",
      " ********************\n",
      "remove 200\n",
      "8 100 1 2 3 4 5 6 \n",
      " ********************\n",
      "remove 3\n",
      "8 100 1 2 4 5 6 "
     ]
    }
   ],
   "source": [
    "scll = SingleCycleLinkList()\n",
    "print(scll.is_empty())\n",
    "print(scll.length())\n",
    "scll.append(1)\n",
    "print(scll.is_empty())\n",
    "print(scll.length())\n",
    "scll.append(2)\n",
    "scll.add(8)\n",
    "scll.append(3)\n",
    "scll.append(4)\n",
    "scll.append(5)\n",
    "scll.append(6)\n",
    "# 8 1 2 3 4 5 6 \n",
    "scll.insert(-1, 9)\n",
    "scll.insert(2, 100)\n",
    "scll.insert(10, 200)\n",
    "scll.travel()\n",
    "print('\\n', '*' * 20)\n",
    "scll.remove(9)\n",
    "print('remove 9')\n",
    "scll.travel()\n",
    "print('\\n','*' * 20)\n",
    "scll.remove(200)\n",
    "print('remove 200')\n",
    "scll.travel()\n",
    "print('\\n','*' * 20)\n",
    "scll.remove(3)\n",
    "print('remove 3')\n",
    "scll.travel()"
   ]
  },
  {
   "cell_type": "code",
   "execution_count": 14,
   "metadata": {},
   "outputs": [],
   "source": [
    "# 栈\n",
    "class Stack:\n",
    "    def __init__(self):\n",
    "        self.__list = []\n",
    "        \n",
    "    def push(self, item):\n",
    "        '''压栈'''\n",
    "        self.__list.append(item)\n",
    "    \n",
    "    def pop(self):\n",
    "        '''出栈'''\n",
    "        return self.__list.pop()\n",
    "    \n",
    "    def peek(self):\n",
    "        '''栈顶元素'''\n",
    "        if self.__list:\n",
    "            return self.__list[-1]\n",
    "        else:\n",
    "            return None\n",
    "    \n",
    "    def is_empty(self):\n",
    "        '''是否为空'''\n",
    "        return self.__list == []\n",
    "    \n",
    "    def size(self):\n",
    "        '''返回栈的元素个数'''\n",
    "        return len(self.__list)\n",
    "    "
   ]
  },
  {
   "cell_type": "code",
   "execution_count": 16,
   "metadata": {},
   "outputs": [
    {
     "name": "stdout",
     "output_type": "stream",
     "text": [
      "True\n",
      "0\n",
      "False\n",
      "5\n",
      "5\n",
      "5\n",
      "4\n",
      "3\n",
      "3\n",
      "2\n",
      "1\n",
      "True\n",
      "0\n"
     ]
    }
   ],
   "source": [
    "s = Stack()\n",
    "print(s.is_empty())\n",
    "print(s.size())\n",
    "s.push(1)\n",
    "print(s.is_empty())\n",
    "s.push(2)\n",
    "s.push(3)\n",
    "s.push(4)\n",
    "s.push(5)\n",
    "print(s.size())\n",
    "print(s.peek())\n",
    "print(s.pop())\n",
    "print(s.pop())\n",
    "print(s.peek())\n",
    "print(s.pop())\n",
    "print(s.pop())\n",
    "print(s.pop())\n",
    "print(s.is_empty())\n",
    "print(s.size())"
   ]
  },
  {
   "cell_type": "code",
   "execution_count": 17,
   "metadata": {},
   "outputs": [],
   "source": [
    "# 队列\n",
    "class Queue:\n",
    "    def __init__(self):\n",
    "        self.__list = []\n",
    "        \n",
    "    def is_empty(self):\n",
    "        return self.__list == []\n",
    "    \n",
    "    def enqueue(self, item):\n",
    "        '''入队'''\n",
    "        self.__list.append(item)\n",
    "        \n",
    "    def dequeue(self):\n",
    "        '''出队'''\n",
    "        return self.__list.pop(0)\n",
    "    \n",
    "    def size(self):\n",
    "        return len(self.__list)"
   ]
  },
  {
   "cell_type": "code",
   "execution_count": 18,
   "metadata": {},
   "outputs": [
    {
     "name": "stdout",
     "output_type": "stream",
     "text": [
      "True\n",
      "0\n",
      "True\n",
      "5\n",
      "1\n",
      "2\n",
      "3\n",
      "4\n",
      "5\n",
      "True\n",
      "0\n"
     ]
    }
   ],
   "source": [
    "q = Queue()\n",
    "print(q.is_empty())\n",
    "print(q.size())\n",
    "q.enqueue(1)\n",
    "print(s.is_empty())\n",
    "q.enqueue(2)\n",
    "q.enqueue(3)\n",
    "q.enqueue(4)\n",
    "q.enqueue(5)\n",
    "print(q.size())\n",
    "print(q.dequeue())\n",
    "print(q.dequeue())\n",
    "print(q.dequeue())\n",
    "print(q.dequeue())\n",
    "print(q.dequeue())\n",
    "print(q.is_empty())\n",
    "print(q.size())"
   ]
  },
  {
   "cell_type": "code",
   "execution_count": 21,
   "metadata": {},
   "outputs": [],
   "source": [
    "# 双端队列\n",
    "class Deque:\n",
    "    def __init__(self):\n",
    "        self.__list = []\n",
    "        \n",
    "    def is_empty(self):\n",
    "        return self.__list == []\n",
    "    \n",
    "    def add_front(self, item):\n",
    "        self.__list.insert(0, item)\n",
    "        \n",
    "    def add_rear(self, item):\n",
    "        self.__list.append(item)\n",
    "        \n",
    "    def remove_front(self):\n",
    "        return self.__list.pop(0)\n",
    "    \n",
    "    def remove_rear(self):\n",
    "        return self.__list.pop()\n",
    "    \n",
    "    def size(self):\n",
    "        return len(self.__list)\n",
    "    "
   ]
  },
  {
   "cell_type": "code",
   "execution_count": 22,
   "metadata": {},
   "outputs": [
    {
     "name": "stdout",
     "output_type": "stream",
     "text": [
      "True\n",
      "0\n",
      "5\n",
      "1\n",
      "5\n",
      "2\n",
      "3\n",
      "4\n",
      "True\n",
      "0\n"
     ]
    }
   ],
   "source": [
    "d = Deque()\n",
    "print(d.is_empty())\n",
    "print(d.size())\n",
    "d.add_front(2)\n",
    "d.add_rear(3)\n",
    "d.add_front(1)\n",
    "d.add_rear(4)\n",
    "d.add_rear(5)\n",
    "print(d.size())\n",
    "print(d.remove_front())\n",
    "print(d.remove_rear())\n",
    "print(d.remove_front())\n",
    "print(d.remove_front())\n",
    "print(d.remove_rear())\n",
    "print(d.is_empty())\n",
    "print(d.size())"
   ]
  },
  {
   "cell_type": "code",
   "execution_count": 75,
   "metadata": {},
   "outputs": [],
   "source": [
    "# 冒泡排序\n",
    "def bubble_sort(arr):\n",
    "    if not arr or len(arr) < 2:\n",
    "        return arr\n",
    "    print('pre:', arr)\n",
    "    length = len(arr)\n",
    "    for i in range(length-1):\n",
    "        for j in range(length-1-i):\n",
    "            if arr[j] > arr[j+1]:\n",
    "                arr[j], arr[j+1] = arr[j+1], arr[j]\n",
    "    print('after:',arr)\n",
    "    return arr"
   ]
  },
  {
   "cell_type": "code",
   "execution_count": 76,
   "metadata": {},
   "outputs": [
    {
     "name": "stdout",
     "output_type": "stream",
     "text": [
      "pre: [10, 9, 8, 7, 6, 5, 4, 3, 2, 1]\n",
      "after: [1, 2, 3, 4, 5, 6, 7, 8, 9, 10]\n"
     ]
    },
    {
     "data": {
      "text/plain": [
       "[1, 2, 3, 4, 5, 6, 7, 8, 9, 10]"
      ]
     },
     "execution_count": 76,
     "metadata": {},
     "output_type": "execute_result"
    }
   ],
   "source": [
    "bubble_sort(list(range(10, 0, -1)))"
   ]
  },
  {
   "cell_type": "code",
   "execution_count": 77,
   "metadata": {},
   "outputs": [],
   "source": [
    "# 选择排序\n",
    "def select_sort(arr):\n",
    "    if not arr or len(arr) < 2:\n",
    "        return arr\n",
    "    print('pre:', arr)\n",
    "    length = len(arr)\n",
    "    for i in range(length-1):\n",
    "        min_index = i\n",
    "        for j in range(i+1, length):\n",
    "            if arr[j] < arr[min_index]:\n",
    "                min_index = j\n",
    "        if min_index != i:\n",
    "            arr[i], arr[min_index] = arr[min_index], arr[i]\n",
    "    print('after:', arr)\n",
    "    return arr"
   ]
  },
  {
   "cell_type": "code",
   "execution_count": 35,
   "metadata": {},
   "outputs": [
    {
     "name": "stdout",
     "output_type": "stream",
     "text": [
      "pre: [10, 9, 8, 7, 6, 5, 4, 3, 2, 1]\n",
      "after: [1, 2, 3, 4, 5, 6, 7, 8, 9, 10]\n"
     ]
    },
    {
     "data": {
      "text/plain": [
       "[1, 2, 3, 4, 5, 6, 7, 8, 9, 10]"
      ]
     },
     "execution_count": 35,
     "metadata": {},
     "output_type": "execute_result"
    }
   ],
   "source": [
    "select_sort(list(range(10, 0, -1)))"
   ]
  },
  {
   "cell_type": "code",
   "execution_count": 78,
   "metadata": {},
   "outputs": [],
   "source": [
    "# 插入排序\n",
    "def insert_sort(arr):\n",
    "    if not arr or len(arr) < 2:\n",
    "        return arr\n",
    "    print('pre:', arr)\n",
    "    length = len(arr)\n",
    "    for i in range(1, length):\n",
    "        for j in range(i, 0, -1):\n",
    "            if arr[j] < arr[j -1]:\n",
    "                arr[j], arr[j-1] = arr[j-1], arr[j]\n",
    "    print('after:', arr)\n",
    "    return arr"
   ]
  },
  {
   "cell_type": "code",
   "execution_count": 79,
   "metadata": {},
   "outputs": [
    {
     "name": "stdout",
     "output_type": "stream",
     "text": [
      "pre: [10, 9, 8, 7, 6, 5, 4, 3, 2, 1]\n",
      "after: [1, 2, 3, 4, 5, 6, 7, 8, 9, 10]\n"
     ]
    },
    {
     "data": {
      "text/plain": [
       "[1, 2, 3, 4, 5, 6, 7, 8, 9, 10]"
      ]
     },
     "execution_count": 79,
     "metadata": {},
     "output_type": "execute_result"
    }
   ],
   "source": [
    "insert_sort(list(range(10, 0, -1)))"
   ]
  },
  {
   "cell_type": "code",
   "execution_count": 80,
   "metadata": {},
   "outputs": [],
   "source": [
    "# 希尔排序(改良版插入排序)\n",
    "def shell_sort(arr):\n",
    "    if not arr or len(arr) < 2:\n",
    "        return arr\n",
    "    print('pre:', arr)\n",
    "    length = len(arr)\n",
    "    # 步长\n",
    "    gap = length // 2\n",
    "    while gap > 0:\n",
    "        for i in range(gap, length):\n",
    "            j = i\n",
    "            while j-gap >= 0 and arr[j] < arr[j-gap]:\n",
    "                arr[j], arr[j-gap] = arr[j-gap], arr[j]\n",
    "                j -= gap\n",
    "        print('gap=',gap, arr)\n",
    "        gap //= 2\n",
    "    print('after:', arr)\n",
    "    return arr"
   ]
  },
  {
   "cell_type": "code",
   "execution_count": 81,
   "metadata": {},
   "outputs": [
    {
     "name": "stdout",
     "output_type": "stream",
     "text": [
      "pre: [10, 9, 8, 7, 6, 5, 4, 3, 2, 1]\n",
      "gap= 5 [5, 4, 3, 2, 1, 10, 9, 8, 7, 6]\n",
      "gap= 2 [1, 2, 3, 4, 5, 6, 7, 8, 9, 10]\n",
      "gap= 1 [1, 2, 3, 4, 5, 6, 7, 8, 9, 10]\n",
      "after: [1, 2, 3, 4, 5, 6, 7, 8, 9, 10]\n"
     ]
    },
    {
     "data": {
      "text/plain": [
       "[1, 2, 3, 4, 5, 6, 7, 8, 9, 10]"
      ]
     },
     "execution_count": 81,
     "metadata": {},
     "output_type": "execute_result"
    }
   ],
   "source": [
    "shell_sort(list(range(10, 0, -1)))"
   ]
  },
  {
   "cell_type": "code",
   "execution_count": 112,
   "metadata": {},
   "outputs": [],
   "source": [
    "# 快速排序1\n",
    "def quick_sort1(arr):\n",
    "    if not arr or len(arr) < 2:\n",
    "        return arr\n",
    "    print('pre:', arr)\n",
    "    pivot = arr[0]\n",
    "    less = [i for i in arr[1:] if i <= pivot]\n",
    "    greater = [i for i in arr[1:] if i > pivot]\n",
    "    print('less:', less, 'greater:', greater)\n",
    "    return quick_sort1(less) + [pivot] + quick_sort1(greater)"
   ]
  },
  {
   "cell_type": "code",
   "execution_count": 113,
   "metadata": {},
   "outputs": [
    {
     "name": "stdout",
     "output_type": "stream",
     "text": [
      "pre: [10, 9, 8, 7, 6, 5, 4, 3, 2, 1]\n",
      "less: [9, 8, 7, 6, 5, 4, 3, 2, 1] greater: []\n",
      "pre: [9, 8, 7, 6, 5, 4, 3, 2, 1]\n",
      "less: [8, 7, 6, 5, 4, 3, 2, 1] greater: []\n",
      "pre: [8, 7, 6, 5, 4, 3, 2, 1]\n",
      "less: [7, 6, 5, 4, 3, 2, 1] greater: []\n",
      "pre: [7, 6, 5, 4, 3, 2, 1]\n",
      "less: [6, 5, 4, 3, 2, 1] greater: []\n",
      "pre: [6, 5, 4, 3, 2, 1]\n",
      "less: [5, 4, 3, 2, 1] greater: []\n",
      "pre: [5, 4, 3, 2, 1]\n",
      "less: [4, 3, 2, 1] greater: []\n",
      "pre: [4, 3, 2, 1]\n",
      "less: [3, 2, 1] greater: []\n",
      "pre: [3, 2, 1]\n",
      "less: [2, 1] greater: []\n",
      "pre: [2, 1]\n",
      "less: [1] greater: []\n"
     ]
    },
    {
     "data": {
      "text/plain": [
       "[1, 2, 3, 4, 5, 6, 7, 8, 9, 10]"
      ]
     },
     "execution_count": 113,
     "metadata": {},
     "output_type": "execute_result"
    }
   ],
   "source": [
    "quick_sort(list(range(10, 0, -1)))"
   ]
  },
  {
   "cell_type": "code",
   "execution_count": 63,
   "metadata": {},
   "outputs": [],
   "source": [
    "# 快速排序2\n",
    "def quick_sort2(arr, start, end):\n",
    "    if start >= end:\n",
    "        return arr\n",
    "    \n",
    "    low = start\n",
    "    high = end\n",
    "    pivot = arr[low]\n",
    "    \n",
    "    while low < high:\n",
    "        while low < high and arr[high] >= pivot:\n",
    "            high -= 1\n",
    "        arr[low] = arr[high]\n",
    "\n",
    "        while low < high and arr[low] < pivot:\n",
    "            low += 1\n",
    "        arr[high] = arr[low]\n",
    "    \n",
    "    arr[low] = pivot\n",
    "    print(arr)\n",
    "    quick_sort2(arr, start, low-1)\n",
    "    quick_sort2(arr, low+1, end)"
   ]
  },
  {
   "cell_type": "code",
   "execution_count": 64,
   "metadata": {},
   "outputs": [
    {
     "name": "stdout",
     "output_type": "stream",
     "text": [
      "[1, 9, 8, 7, 6, 5, 4, 3, 2, 10]\n",
      "[1, 9, 8, 7, 6, 5, 4, 3, 2, 10]\n",
      "[1, 2, 8, 7, 6, 5, 4, 3, 9, 10]\n",
      "[1, 2, 8, 7, 6, 5, 4, 3, 9, 10]\n",
      "[1, 2, 3, 7, 6, 5, 4, 8, 9, 10]\n",
      "[1, 2, 3, 7, 6, 5, 4, 8, 9, 10]\n",
      "[1, 2, 3, 4, 6, 5, 7, 8, 9, 10]\n",
      "[1, 2, 3, 4, 6, 5, 7, 8, 9, 10]\n",
      "[1, 2, 3, 4, 5, 6, 7, 8, 9, 10]\n",
      "[1, 2, 3, 4, 5, 6, 7, 8, 9, 10]\n",
      "**************************************************\n",
      "[20, 26, 44, 17, 31, 54, 77, 55, 93]\n",
      "[17, 20, 44, 26, 31, 54, 77, 55, 93]\n",
      "[17, 20, 31, 26, 44, 54, 77, 55, 93]\n",
      "[17, 20, 26, 31, 44, 54, 77, 55, 93]\n",
      "[17, 20, 26, 31, 44, 54, 55, 77, 93]\n",
      "[17, 20, 26, 31, 44, 54, 55, 77, 93]\n"
     ]
    }
   ],
   "source": [
    "arr = list(range(10, 0, -1))\n",
    "quick_sort2(arr, 0, len(arr)-1)\n",
    "print(arr)\n",
    "\n",
    "print('*' * 50)\n",
    "\n",
    "arr = [54,26,93,17,77,31,44,55,20]\n",
    "quick_sort2(arr, 0, len(arr)-1)\n",
    "print(arr)"
   ]
  },
  {
   "cell_type": "code",
   "execution_count": 48,
   "metadata": {},
   "outputs": [
    {
     "name": "stdout",
     "output_type": "stream",
     "text": [
      "[10, 9, 8, 7, 6, 5, 4, 3, 2, 1]\n",
      "[10, 9, 8, 7, 6]\n",
      "[10, 9, 8, 7, 6]\n",
      "[10, 9, 8, 7, 6, 5, 4, 3, 2, 1]\n",
      "[88, 99, 11, 5, 4, 3, 2, 1]\n"
     ]
    }
   ],
   "source": [
    "arr = list(range(10, 0, -1))\n",
    "print(arr)\n",
    "print(arr[0:5])\n",
    "arr[0:5][1] = 99\n",
    "print(arr[0:5])\n",
    "print(arr)\n",
    "arr[0:5] = [88, 99, 11]\n",
    "print(arr)"
   ]
  },
  {
   "cell_type": "code",
   "execution_count": 42,
   "metadata": {},
   "outputs": [
    {
     "name": "stdout",
     "output_type": "stream",
     "text": [
      "[1, 9, 8, 7, 6, 5, 4, 3, 2, 10]\n",
      "[1, 9, 8, 7, 6, 5, 4, 3, 2, 10]\n",
      "[1, 2, 8, 7, 6, 5, 4, 3, 9, 10]\n",
      "[1, 2, 8, 7, 6, 5, 4, 3, 9, 10]\n",
      "[1, 2, 3, 7, 6, 5, 4, 8, 9, 10]\n",
      "[1, 2, 3, 7, 6, 5, 4, 8, 9, 10]\n",
      "[1, 2, 3, 4, 6, 5, 7, 8, 9, 10]\n",
      "[1, 2, 3, 4, 6, 5, 7, 8, 9, 10]\n",
      "[1, 2, 3, 4, 5, 6, 7, 8, 9, 10]\n"
     ]
    }
   ],
   "source": []
  },
  {
   "cell_type": "code",
   "execution_count": 47,
   "metadata": {},
   "outputs": [
    {
     "name": "stdout",
     "output_type": "stream",
     "text": [
      "[10, 9, 8, 7, 6, 5, 4, 3, 2, 1]\n",
      "[10, 9, 8, 7, 6]\n",
      "[10, 9, 8, 7, 6]\n",
      "[10, 9, 8, 7, 6, 5, 4, 3, 2, 1]\n",
      "[88, 99, 11, 5, 4, 3, 2, 1]\n"
     ]
    }
   ],
   "source": []
  },
  {
   "cell_type": "code",
   "execution_count": null,
   "metadata": {},
   "outputs": [],
   "source": []
  },
  {
   "cell_type": "code",
   "execution_count": null,
   "metadata": {},
   "outputs": [],
   "source": []
  }
 ],
 "metadata": {
  "kernelspec": {
   "display_name": "Python 3",
   "language": "python",
   "name": "python3"
  },
  "language_info": {
   "codemirror_mode": {
    "name": "ipython",
    "version": 3
   },
   "file_extension": ".py",
   "mimetype": "text/x-python",
   "name": "python",
   "nbconvert_exporter": "python",
   "pygments_lexer": "ipython3",
   "version": "3.6.8"
  }
 },
 "nbformat": 4,
 "nbformat_minor": 2
}
