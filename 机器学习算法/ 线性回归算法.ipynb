{
 "cells": [
  {
   "cell_type": "markdown",
   "metadata": {},
   "source": [
    "# 线性回归算法\n",
    "\n",
    "* 解决回归问题\n",
    "* 思想简单, 实现容易\n",
    "* 许多强大的非线性模型的基础\n",
    "* 结果具有很好的可解释性\n",
    "* 蕴含机器学习中的很多重要思想"
   ]
  },
  {
   "cell_type": "markdown",
   "metadata": {},
   "source": [
    "## 简单线性回归\n",
    "\n",
    "* 只有一个特征\n",
    "* y = ax + b"
   ]
  },
  {
   "cell_type": "markdown",
   "metadata": {},
   "source": [
    "一类机器学习算法的基本思路\n",
    "\n",
    "* 通过分析问题, 确定问题的损失函数或者效用函数\n",
    "* 通过最优化损失函数或者效用函数, 获得机器学习的模型"
   ]
  },
  {
   "cell_type": "code",
   "execution_count": null,
   "metadata": {},
   "outputs": [],
   "source": []
  }
 ],
 "metadata": {
  "kernelspec": {
   "display_name": "Python [default]",
   "language": "python",
   "name": "python3"
  },
  "language_info": {
   "codemirror_mode": {
    "name": "ipython",
    "version": 3
   },
   "file_extension": ".py",
   "mimetype": "text/x-python",
   "name": "python",
   "nbconvert_exporter": "python",
   "pygments_lexer": "ipython3",
   "version": "3.6.5"
  }
 },
 "nbformat": 4,
 "nbformat_minor": 2
}
